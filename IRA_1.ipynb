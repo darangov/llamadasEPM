{
 "cells": [
  {
   "cell_type": "code",
   "execution_count": null,
   "metadata": {},
   "outputs": [],
   "source": [
    "import os\n",
    "import tarfile\n",
    "from six.moves import urllib\n",
    "import pandas as pd\n",
    "import numpy as np\n",
    "import matplotlib.pyplot as plt\n",
    "from sklearn.model_selection import train_test_split\n",
    "from sklearn.neighbors import KNeighborsClassifier\n",
    "from sklearn.preprocessing import MinMaxScaler\n",
    "from sklearn.metrics import classification_report\n",
    "from sklearn.metrics import confusion_matrix"
   ]
  },
  {
   "cell_type": "code",
   "execution_count": null,
   "metadata": {},
   "outputs": [],
   "source": [
    "# Cargo el dataset\n",
    "\n",
    "ira_dataset = pd.read_csv(\"IRA_1.csv\", encoding = \"ISO-8859-1\")\n",
    "# encoding = \"ISO-8859-1\" es lo mismo que latin 1\n",
    "\n",
    "type(ira_dataset)"
   ]
  },
  {
   "cell_type": "code",
   "execution_count": null,
   "metadata": {},
   "outputs": [],
   "source": [
    "ira_dataset.shape"
   ]
  },
  {
   "cell_type": "code",
   "execution_count": null,
   "metadata": {},
   "outputs": [],
   "source": [
    "ira_dataset.index"
   ]
  },
  {
   "cell_type": "code",
   "execution_count": null,
   "metadata": {},
   "outputs": [],
   "source": [
    "ira_dataset.head(3) # Top three rows in the dataframe"
   ]
  },
  {
   "cell_type": "code",
   "execution_count": null,
   "metadata": {},
   "outputs": [],
   "source": [
    "#Renombro columnas\n",
    "ira_dataset = ira_dataset.rename(columns = {'P3.ASPECTOS QUE LO SORPRENDIERON O QUE LE MOLESTARON':'MENSAJE', \n",
    "                                            'INCIDENTE CRITICO':'SENTIMIENTO' })"
   ]
  },
  {
   "cell_type": "code",
   "execution_count": null,
   "metadata": {},
   "outputs": [],
   "source": [
    "ira_dataset.info() # Description of the data"
   ]
  },
  {
   "cell_type": "code",
   "execution_count": null,
   "metadata": {},
   "outputs": [],
   "source": [
    "# Esta balanceado el dataset?\n",
    "print(\"Longitud del dataset\", len(ira_dataset))\n",
    "print()\n",
    "\n",
    "print(\"Categorias Sentimientos Balanceada?: \\n\", ira_dataset.loc[:,'SENTIMIENTO'].value_counts())\n",
    "\n",
    "#balanceado = tweet_dataset['polarity'].value_counts()\n",
    "#print (\"dataset balanceado? \\n\", balanceado)\n"
   ]
  },
  {
   "cell_type": "code",
   "execution_count": null,
   "metadata": {},
   "outputs": [],
   "source": [
    "# verifico cuantos Mensajes vacios estan asociados a Sentimiento Experiencia Normal\n",
    "\n",
    "#ira_dataset.loc[ira_dataset['MENSAJE'] == '-', ['MENSAJE', 'SENTIMIENTO']]\n",
    "\n",
    "ira_dataset.loc[(ira_dataset['MENSAJE'] == '-') & (ira_dataset['SENTIMIENTO'] == 'EXPERIENCIA NORMAL'), \n",
    "                ['MENSAJE', 'SENTIMIENTO']]\n"
   ]
  },
  {
   "cell_type": "code",
   "execution_count": null,
   "metadata": {},
   "outputs": [],
   "source": [
    "#help(funcion)"
   ]
  },
  {
   "cell_type": "code",
   "execution_count": null,
   "metadata": {},
   "outputs": [],
   "source": [
    "# Summary of the numerical attributes\n",
    "ira_dataset.describe()"
   ]
  },
  {
   "cell_type": "code",
   "execution_count": null,
   "metadata": {},
   "outputs": [],
   "source": [
    "ira_dataset.count()"
   ]
  },
  {
   "cell_type": "code",
   "execution_count": null,
   "metadata": {},
   "outputs": [],
   "source": [
    "#ira_dataset.drop('Unnamed: 8', axis = 1)\n",
    "del ira_dataset['Unnamed: 8']"
   ]
  },
  {
   "cell_type": "code",
   "execution_count": null,
   "metadata": {},
   "outputs": [],
   "source": [
    "ira_dataset.info() # valido qu no aparezca unnamed 8"
   ]
  },
  {
   "cell_type": "code",
   "execution_count": null,
   "metadata": {},
   "outputs": [],
   "source": [
    "# usando la funcion head imprime los 5 primero registros con sentimiento positivo.\n",
    "ira_dataset[ira_dataset['SENTIMIENTO'] == 'INCIDENTES POSITIVOS'].head()"
   ]
  },
  {
   "cell_type": "code",
   "execution_count": null,
   "metadata": {},
   "outputs": [],
   "source": [
    "# usando iloc accedamos al valor del segundo registro, de sentimiento positivo en el campo TEXTO.\n",
    "\n",
    "print(ira_dataset[ira_dataset['SENTIMIENTO'] == 'INCIDENTES POSITIVOS'].MENSAJE.iloc[1])\n",
    "\n",
    "print(\"Longitud Mensaje: \", len(ira_dataset[ira_dataset['SENTIMIENTO'] == 'INCIDENTES POSITIVOS'].MENSAJE.iloc[1]))\n",
    "\n",
    "\n",
    "\n",
    "\n",
    "# usando iloc accedamos al valor del segundo registro, de sentimiento positivo en el campo TEXTO.\n",
    "\n",
    "#print(tweet_dataset[tweet_dataset['polarity'] == 4].tweet_text.iloc[1])\n",
    "\n",
    "#print(\"Longitud tweet: \", len(tweet_dataset[tweet_dataset['polarity'] == 4].tweet_text.iloc[1]))"
   ]
  },
  {
   "cell_type": "code",
   "execution_count": null,
   "metadata": {},
   "outputs": [],
   "source": [
    "# usando la funcion head imprime los 5 primero registros con sentimiento Neutro.\n",
    "ira_dataset[ira_dataset['SENTIMIENTO'] == 'EXPERIENCIA NORMAL'].head()"
   ]
  },
  {
   "cell_type": "code",
   "execution_count": null,
   "metadata": {},
   "outputs": [],
   "source": [
    "# usando iloc accedamos al valor del segundo registro, de sentimiento Neutro en el campo TEXTO.\n",
    "\n",
    "print(ira_dataset[ira_dataset['SENTIMIENTO'] == 'EXPERIENCIA NORMAL'].MENSAJE.iloc[1])\n",
    "\n",
    "print(\"Longitud Mensaje: \", len(ira_dataset[ira_dataset['SENTIMIENTO'] == 'EXPERIENCIA NORMAL'].MENSAJE.iloc[1]))\n"
   ]
  },
  {
   "cell_type": "code",
   "execution_count": null,
   "metadata": {},
   "outputs": [],
   "source": [
    "# usando la funcion head imprime los 5 primero registros con sentimiento Negativo.\n",
    "ira_dataset[ira_dataset['SENTIMIENTO'] == 'INCIDENTES NEGATIVOS'].head()"
   ]
  },
  {
   "cell_type": "code",
   "execution_count": null,
   "metadata": {},
   "outputs": [],
   "source": [
    "# usando iloc accedamos al valor del segundo registro, de sentimiento Neutro en el campo TEXTO.\n",
    "\n",
    "print(ira_dataset[ira_dataset['SENTIMIENTO'] == 'INCIDENTES NEGATIVOS'].MENSAJE.iloc[1])\n",
    "\n",
    "print(\"Longitud Mensaje: \", len(ira_dataset[ira_dataset['SENTIMIENTO'] == 'INCIDENTES NEGATIVOS'].MENSAJE.iloc[1]))\n"
   ]
  },
  {
   "cell_type": "code",
   "execution_count": null,
   "metadata": {},
   "outputs": [],
   "source": [
    "#help(round)\n"
   ]
  },
  {
   "cell_type": "code",
   "execution_count": null,
   "metadata": {},
   "outputs": [],
   "source": [
    "# valida campos null\n",
    "#print(ira_dataset.isnull()) # Para detectar valores nulos\n"
   ]
  },
  {
   "cell_type": "code",
   "execution_count": null,
   "metadata": {},
   "outputs": [],
   "source": [
    "# valida si hay filas con nan y en caso de que si usa el metodo .dropna(), ajusta el parametro inplace en True.\n",
    "#print(np.isnan(ira_dataset))\n",
    "\n",
    "#x = x[numpy.logical_not(numpy.isnan(x))]\n",
    "#print(ira_dataset['Site Fill'].value_counts(dropna=False))"
   ]
  },
  {
   "cell_type": "code",
   "execution_count": null,
   "metadata": {},
   "outputs": [],
   "source": [
    "# Determino si existen celdas nulas\n",
    "\n",
    "def num_missing(x):\n",
    "    return sum(x.isnull())\n",
    "\n",
    "# nulos por columna\n",
    "colnull = ira_dataset.apply(num_missing, axis = 0)\n",
    "print(\"Nulos por columna: \\n\" , colnull)\n",
    "\n",
    "\n",
    "# sin embargo toma el simbolo \"-\" y \"_\" como si no fuera nulo"
   ]
  },
  {
   "cell_type": "code",
   "execution_count": null,
   "metadata": {},
   "outputs": [],
   "source": [
    "# nulos por fila\n",
    "filnull = ira_dataset.apply(num_missing, axis = 1)\n",
    "\n",
    "# Por fila\n",
    "print (\"Nulos por fila: \\n\", filnull.head())"
   ]
  },
  {
   "cell_type": "code",
   "execution_count": null,
   "metadata": {},
   "outputs": [],
   "source": [
    "# Convierto el simbolo \"-\" o \"_\" a nulo - missing value\n",
    "\n",
    "ira_dataset_mod = ira_dataset.replace(to_replace = [\"-\", \"_\"], value = \"\")\n",
    "#ira_dataset_mod = ira_dataset.replace(to_replace = \"-\", value = \"NaN\")\n",
    "\n",
    "ira_dataset_mod.head()"
   ]
  },
  {
   "cell_type": "code",
   "execution_count": null,
   "metadata": {},
   "outputs": [],
   "source": [
    "#En primer lugar, lo que deberíamos hacer es controlar si existen valores faltantes o nulos; \n",
    "#esto lo podemos realizar utilizando el método isnull() del siguiente modo:\n",
    "\n",
    "# Controlando valores nulos\n",
    "ira_dataset_mod.isnull().any().any()"
   ]
  },
  {
   "cell_type": "code",
   "execution_count": null,
   "metadata": {},
   "outputs": [],
   "source": [
    "\n",
    "def num_missing(x):\n",
    "    return sum(x.isnull())\n",
    "\n",
    "# nulos por columna\n",
    "colnull = ira_dataset_mod.apply(num_missing, axis = 0)\n",
    "print(\"Nulos por columna: \\n\" , colnull)\n",
    "\n",
    "# o:\n",
    "#ira_dataset_mod.isnull().sum()\n",
    "#ira_dataset_mod.isnull().sum().sum()"
   ]
  },
  {
   "cell_type": "code",
   "execution_count": null,
   "metadata": {},
   "outputs": [],
   "source": []
  },
  {
   "cell_type": "code",
   "execution_count": null,
   "metadata": {},
   "outputs": [],
   "source": [
    "ira_dataset_mod.head()"
   ]
  },
  {
   "cell_type": "code",
   "execution_count": null,
   "metadata": {},
   "outputs": [],
   "source": [
    "# Cuales son los descriptores que nos aportan informacion para el analisis de sentimientos?, cuales no?\n",
    "# usando el metodo drop() de los DataFrame, elimina los campos que no son necesarios para el analisis \n",
    "# de sentimientos, recuerda ajustar un atributo en 1 y otro en True.\n",
    "#ira_dataset.columns \n",
    "ira_dataset.drop(['D3.TRANSACCION','CANAL_ATENCION','CAUSA','DESCRIPCION', 'MOTIVO', 'MUNICIPIO',\n",
    "'D0.SERVICIO', 'D2.PUNTO DE CONTACTO', 'D5.LOCALIDAD'], axis = 1, inplace = True)\n",
    "# axis = 1 elimina valores de la columna     \n"
   ]
  },
  {
   "cell_type": "code",
   "execution_count": null,
   "metadata": {},
   "outputs": [],
   "source": [
    "ira_dataset.head()"
   ]
  },
  {
   "cell_type": "code",
   "execution_count": null,
   "metadata": {},
   "outputs": [],
   "source": []
  }
 ],
 "metadata": {
  "kernelspec": {
   "display_name": "Python 3",
   "language": "python",
   "name": "python3"
  },
  "language_info": {
   "codemirror_mode": {
    "name": "ipython",
    "version": 3
   },
   "file_extension": ".py",
   "mimetype": "text/x-python",
   "name": "python",
   "nbconvert_exporter": "python",
   "pygments_lexer": "ipython3",
   "version": "3.7.3"
  }
 },
 "nbformat": 4,
 "nbformat_minor": 2
}
